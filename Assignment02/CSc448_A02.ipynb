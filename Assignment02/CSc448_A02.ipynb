{
  "cells": [
    {
      "cell_type": "markdown",
      "id": "66003ae5",
      "metadata": {
        "id": "66003ae5"
      },
      "source": [
        "<a href=\\\"https://colab.research.google.com/github/shanshanli806/Artificial-Intelligence/blob/main/Assignment02/CSc448_A02.ipynb\\\" target=\\\"_parent\\\"><img src=\\\"https://colab.research.google.com/assets/colab-badge.svg\\\" alt=\\\"Open In Colab\\\"/></a>"
      ]
    },
    {
      "cell_type": "markdown",
      "id": "a2f2f21c",
      "metadata": {
        "id": "a2f2f21c"
      },
      "source": [
        "According to dataset provided by the World Health Organization, an average of 800,000 people commit suicide each year worldwide. As a result, suicide has become one of the most frequent means of death. Many countries lack preventive measures.\n",
        "\n",
        "For this project, the dataset will be pull from the World Health Organization (WHO). The dataset is based on the suicide rate of over 100 countries all over the world between the years 1958 - 2016. We will analyze the suicide rate for each country based on different age groups and genders."
      ]
    },
    {
      "cell_type": "code",
      "execution_count": null,
      "id": "8c19d21f",
      "metadata": {
        "id": "8c19d21f"
      },
      "outputs": [],
      "source": [
        "# importing libraries\n",
        "import numpy as np\n",
        "import pandas as pd\n",
        "import seaborn as sns\n",
        "import matplotlib.pyplot as plt"
      ]
    },
    {
      "cell_type": "markdown",
      "id": "84926c26",
      "metadata": {
        "id": "84926c26"
      },
      "source": [
        "### data description\n",
        "---\n",
        "**country** : 101 countries included in dataset.\n",
        "\n",
        "**year** : from years 1985 to 2016\n",
        " \n",
        "**sex** : male  //  female\n",
        "\n",
        "**age** : 5-14years  //  15-24years  //  25-34years  //  35-54years  //  55-74years  //  75+years\n",
        "\n",
        "**suicides_no** : number of suicides committed\n",
        "\n",
        "**population** : population\n",
        "    \n",
        "**suicides/100k pop** : number of suicides committed per 100,000 people in population\n",
        "\n",
        "**gdp_per_capita** : gdp per capita in USD\n",
        "\n",
        "---"
      ]
    },
    {
      "cell_type": "code",
      "execution_count": null,
      "id": "a85313e5",
      "metadata": {
        "id": "a85313e5",
        "outputId": "a9e8af51-4660-47d7-9ae4-c6a5924f97fc"
      },
      "outputs": [
        {
          "data": {
            "text/html": [
              "<div>\n",
              "<style scoped>\n",
              "    .dataframe tbody tr th:only-of-type {\n",
              "        vertical-align: middle;\n",
              "    }\n",
              "\n",
              "    .dataframe tbody tr th {\n",
              "        vertical-align: top;\n",
              "    }\n",
              "\n",
              "    .dataframe thead th {\n",
              "        text-align: right;\n",
              "    }\n",
              "</style>\n",
              "<table border=\"1\" class=\"dataframe\">\n",
              "  <thead>\n",
              "    <tr style=\"text-align: right;\">\n",
              "      <th></th>\n",
              "      <th>country</th>\n",
              "      <th>year</th>\n",
              "      <th>sex</th>\n",
              "      <th>age</th>\n",
              "      <th>suicides_no</th>\n",
              "      <th>population</th>\n",
              "      <th>suicides/100k pop</th>\n",
              "      <th>country-year</th>\n",
              "      <th>HDI for year</th>\n",
              "      <th>gdp_for_year ($)</th>\n",
              "      <th>gdp_per_capita ($)</th>\n",
              "      <th>generation</th>\n",
              "    </tr>\n",
              "  </thead>\n",
              "  <tbody>\n",
              "    <tr>\n",
              "      <th>0</th>\n",
              "      <td>Albania</td>\n",
              "      <td>1987</td>\n",
              "      <td>male</td>\n",
              "      <td>15-24 years</td>\n",
              "      <td>21</td>\n",
              "      <td>312900</td>\n",
              "      <td>6.71</td>\n",
              "      <td>Albania1987</td>\n",
              "      <td>NaN</td>\n",
              "      <td>2,156,624,900</td>\n",
              "      <td>796</td>\n",
              "      <td>Generation X</td>\n",
              "    </tr>\n",
              "    <tr>\n",
              "      <th>1</th>\n",
              "      <td>Albania</td>\n",
              "      <td>1987</td>\n",
              "      <td>male</td>\n",
              "      <td>35-54 years</td>\n",
              "      <td>16</td>\n",
              "      <td>308000</td>\n",
              "      <td>5.19</td>\n",
              "      <td>Albania1987</td>\n",
              "      <td>NaN</td>\n",
              "      <td>2,156,624,900</td>\n",
              "      <td>796</td>\n",
              "      <td>Silent</td>\n",
              "    </tr>\n",
              "    <tr>\n",
              "      <th>2</th>\n",
              "      <td>Albania</td>\n",
              "      <td>1987</td>\n",
              "      <td>female</td>\n",
              "      <td>15-24 years</td>\n",
              "      <td>14</td>\n",
              "      <td>289700</td>\n",
              "      <td>4.83</td>\n",
              "      <td>Albania1987</td>\n",
              "      <td>NaN</td>\n",
              "      <td>2,156,624,900</td>\n",
              "      <td>796</td>\n",
              "      <td>Generation X</td>\n",
              "    </tr>\n",
              "    <tr>\n",
              "      <th>3</th>\n",
              "      <td>Albania</td>\n",
              "      <td>1987</td>\n",
              "      <td>male</td>\n",
              "      <td>75+ years</td>\n",
              "      <td>1</td>\n",
              "      <td>21800</td>\n",
              "      <td>4.59</td>\n",
              "      <td>Albania1987</td>\n",
              "      <td>NaN</td>\n",
              "      <td>2,156,624,900</td>\n",
              "      <td>796</td>\n",
              "      <td>G.I. Generation</td>\n",
              "    </tr>\n",
              "    <tr>\n",
              "      <th>4</th>\n",
              "      <td>Albania</td>\n",
              "      <td>1987</td>\n",
              "      <td>male</td>\n",
              "      <td>25-34 years</td>\n",
              "      <td>9</td>\n",
              "      <td>274300</td>\n",
              "      <td>3.28</td>\n",
              "      <td>Albania1987</td>\n",
              "      <td>NaN</td>\n",
              "      <td>2,156,624,900</td>\n",
              "      <td>796</td>\n",
              "      <td>Boomers</td>\n",
              "    </tr>\n",
              "  </tbody>\n",
              "</table>\n",
              "</div>"
            ],
            "text/plain": [
              "   country  year     sex          age  suicides_no  population  \\\n",
              "0  Albania  1987    male  15-24 years           21      312900   \n",
              "1  Albania  1987    male  35-54 years           16      308000   \n",
              "2  Albania  1987  female  15-24 years           14      289700   \n",
              "3  Albania  1987    male    75+ years            1       21800   \n",
              "4  Albania  1987    male  25-34 years            9      274300   \n",
              "\n",
              "   suicides/100k pop country-year  HDI for year  gdp_for_year ($)   \\\n",
              "0               6.71  Albania1987           NaN      2,156,624,900   \n",
              "1               5.19  Albania1987           NaN      2,156,624,900   \n",
              "2               4.83  Albania1987           NaN      2,156,624,900   \n",
              "3               4.59  Albania1987           NaN      2,156,624,900   \n",
              "4               3.28  Albania1987           NaN      2,156,624,900   \n",
              "\n",
              "   gdp_per_capita ($)       generation  \n",
              "0                 796     Generation X  \n",
              "1                 796           Silent  \n",
              "2                 796     Generation X  \n",
              "3                 796  G.I. Generation  \n",
              "4                 796          Boomers  "
            ]
          },
          "execution_count": 3,
          "metadata": {},
          "output_type": "execute_result"
        }
      ],
      "source": [
        "# imports dataset from local csv file\n",
        "dataset = pd.read_csv('master.csv')\n",
        "dataset.head()"
      ]
    },
    {
      "cell_type": "code",
      "execution_count": null,
      "id": "fdb13b2d",
      "metadata": {
        "id": "fdb13b2d"
      },
      "outputs": [],
      "source": [
        "#pulling out necessary variables used\n",
        "dataset = dataset[['country', 'year', 'sex', 'age', 'suicides_no', 'population', 'suicides/100k pop', 'gdp_per_capita ($)']] "
      ]
    },
    {
      "cell_type": "code",
      "execution_count": null,
      "id": "b7ba78b0",
      "metadata": {
        "id": "b7ba78b0",
        "outputId": "5710b72e-c9c1-4c0a-db68-ae132fce2a72"
      },
      "outputs": [
        {
          "data": {
            "text/plain": [
              "array(['Albania', 'Antigua and Barbuda', 'Argentina', 'Armenia', 'Aruba',\n",
              "       'Australia', 'Austria', 'Azerbaijan', 'Bahamas', 'Bahrain',\n",
              "       'Barbados', 'Belarus', 'Belgium', 'Belize',\n",
              "       'Bosnia and Herzegovina', 'Brazil', 'Bulgaria', 'Cabo Verde',\n",
              "       'Canada', 'Chile', 'Colombia', 'Costa Rica', 'Croatia', 'Cuba',\n",
              "       'Cyprus', 'Czech Republic', 'Denmark', 'Dominica', 'Ecuador',\n",
              "       'El Salvador', 'Estonia', 'Fiji', 'Finland', 'France', 'Georgia',\n",
              "       'Germany', 'Greece', 'Grenada', 'Guatemala', 'Guyana', 'Hungary',\n",
              "       'Iceland', 'Ireland', 'Israel', 'Italy', 'Jamaica', 'Japan',\n",
              "       'Kazakhstan', 'Kiribati', 'Kuwait', 'Kyrgyzstan', 'Latvia',\n",
              "       'Lithuania', 'Luxembourg', 'Macau', 'Maldives', 'Malta',\n",
              "       'Mauritius', 'Mexico', 'Mongolia', 'Montenegro', 'Netherlands',\n",
              "       'New Zealand', 'Nicaragua', 'Norway', 'Oman', 'Panama', 'Paraguay',\n",
              "       'Philippines', 'Poland', 'Portugal', 'Puerto Rico', 'Qatar',\n",
              "       'Republic of Korea', 'Romania', 'Russian Federation',\n",
              "       'Saint Kitts and Nevis', 'Saint Lucia',\n",
              "       'Saint Vincent and Grenadines', 'San Marino', 'Serbia',\n",
              "       'Seychelles', 'Singapore', 'Slovakia', 'Slovenia', 'South Africa',\n",
              "       'Spain', 'Sri Lanka', 'Suriname', 'Sweden', 'Switzerland',\n",
              "       'Thailand', 'Trinidad and Tobago', 'Turkey', 'Turkmenistan',\n",
              "       'Ukraine', 'United Arab Emirates', 'United Kingdom',\n",
              "       'United States', 'Uruguay', 'Uzbekistan'], dtype=object)"
            ]
          },
          "execution_count": 5,
          "metadata": {},
          "output_type": "execute_result"
        }
      ],
      "source": [
        "# finding the total # of countries in the dataset\n",
        "countries = dataset['country'].unique()\n",
        "countries"
      ]
    },
    {
      "cell_type": "code",
      "execution_count": null,
      "id": "5b599802",
      "metadata": {
        "id": "5b599802"
      },
      "outputs": [],
      "source": [
        "#number of countries in the dataset\n",
        "countries.shape"
      ]
    },
    {
      "cell_type": "markdown",
      "id": "2779c072",
      "metadata": {
        "id": "2779c072"
      },
      "source": [
        "There are a total of 101 countries listed in the dataset."
      ]
    },
    {
      "cell_type": "markdown",
      "id": "b607b4c4",
      "metadata": {
        "id": "b607b4c4"
      },
      "source": [
        "### Suicide Ratio Worldwide\n",
        "---"
      ]
    },
    {
      "cell_type": "code",
      "execution_count": null,
      "id": "91da12cc",
      "metadata": {
        "id": "91da12cc"
      },
      "outputs": [],
      "source": [
        "#gets the ratio of suicides committed each year\n",
        "by_Year = dataset.groupby(by = ['year'])['suicides/100k pop'].mean().reset_index()"
      ]
    },
    {
      "cell_type": "code",
      "execution_count": null,
      "id": "221626c5",
      "metadata": {
        "id": "221626c5"
      },
      "outputs": [],
      "source": [
        "fig = plt.figure(figsize=(15,6))\n",
        "sns.lineplot(x='year', y = 'suicides/100k pop', data=by_Year)\n",
        "plt.xlabel('Year')\n",
        "plt.ylabel('Suicides per 100k people')\n",
        "plt.title('Worldwide Suicide Ratio from 1985 to 2016')"
      ]
    },
    {
      "cell_type": "code",
      "execution_count": null,
      "id": "2430cdbd",
      "metadata": {
        "id": "2430cdbd"
      },
      "outputs": [],
      "source": [
        "# year with the highest suicide rates\n",
        "by_Year[by_Year['suicides/100k pop'] == np.max(by_Year['suicides/100k pop'])]"
      ]
    },
    {
      "cell_type": "code",
      "execution_count": null,
      "id": "a8adab70",
      "metadata": {
        "id": "a8adab70"
      },
      "outputs": [],
      "source": [
        "# year with the lowest suicide rates\n",
        "by_Year[by_Year['suicides/100k pop'] == np.min(by_Year['suicides/100k pop'])]"
      ]
    },
    {
      "cell_type": "code",
      "execution_count": null,
      "id": "616ab979",
      "metadata": {
        "id": "616ab979"
      },
      "outputs": [],
      "source": [
        "countries = dataset.groupby(by = ['country', 'year'])['suicides_no'].sum().reset_index()"
      ]
    },
    {
      "cell_type": "code",
      "execution_count": null,
      "id": "93d99c23",
      "metadata": {
        "id": "93d99c23"
      },
      "outputs": [],
      "source": [
        "#g = sns.FacetGrid(countries, col=\"country\", col_wrap=6)\n",
        "#g = g.map(plt.scatter, \"year\", \"suicides_no\", marker=\".\")"
      ]
    },
    {
      "cell_type": "markdown",
      "id": "3a39b133",
      "metadata": {
        "id": "3a39b133"
      },
      "source": [
        "1995 is the year with the highest suicide rates, whereas 2014 is the year with the lowest suicide rates. So Let's go more in depth into these dataset to see the difference."
      ]
    },
    {
      "cell_type": "markdown",
      "id": "dca76f7c",
      "metadata": {
        "id": "dca76f7c"
      },
      "source": [
        "## TOP 5 countries with the highest suicide rate in 1995\n",
        "---\n",
        "\n",
        "\n",
        "Here, we are pulling/filtering out dataset from 1995 only for analysis."
      ]
    },
    {
      "cell_type": "code",
      "execution_count": null,
      "id": "0bb4206f",
      "metadata": {
        "id": "0bb4206f"
      },
      "outputs": [],
      "source": [
        "#countries for only 1995.\n",
        "only_1995 = dataset[dataset['year']==1995]\n",
        "countries_1995 = only_1995.groupby(by = ['country'])['suicides_no'].sum().reset_index()\n",
        "\n",
        "#the suicide_no/sum of suicides_no worldwide in 1995\n",
        "countries_1995['percentage'] = countries_1995['suicides_no']/countries_1995['suicides_no'].sum()"
      ]
    },
    {
      "cell_type": "code",
      "execution_count": null,
      "id": "0ffb5615",
      "metadata": {
        "id": "0ffb5615"
      },
      "outputs": [],
      "source": [
        "#    The 5 Countries with the HIGHEST suicides number in 1995\n",
        "countries_1995.sort_values('suicides_no', ascending=False).head(5)"
      ]
    },
    {
      "cell_type": "markdown",
      "id": "cd649a38",
      "metadata": {
        "id": "cd649a38"
      },
      "source": [
        "1995 was the peak global suicide rate, with 16 per 100,000 people committing suicide. Most of these people came from Russia, the United States, Japan, Ukraine, and Germany. \n",
        "\n",
        "From the table above we can see that the country with the highest number of suicide committed is Russian Federation following next with United States and Japan in 1995. Russia reached up to a total of 60,548 suicides, accounting for 25% of the total global suicides in 1995. Making up majority of the world’s suicide average."
      ]
    },
    {
      "cell_type": "markdown",
      "id": "9e835533",
      "metadata": {
        "id": "9e835533"
      },
      "source": [
        "## TOP 5 countries with the highest suicide rate in 2014\n",
        "---\n",
        "\n",
        "Here, we are pulling/filtering out dataset from 2014 only for analysis."
      ]
    },
    {
      "cell_type": "code",
      "execution_count": null,
      "id": "6d3e6e93",
      "metadata": {
        "id": "6d3e6e93"
      },
      "outputs": [],
      "source": [
        "#countries for only 2014\n",
        "only_2014 = dataset[dataset['year']==2014]\n",
        "countries_2014 = only_2014.groupby(by = ['country'])['suicides_no'].sum().reset_index()\n",
        "\n",
        "#the suicide_no/sum of suicides_no worldwide in 2014\n",
        "countries_2014['percentage'] = countries_2014['suicides_no']/countries_2014['suicides_no'].sum()"
      ]
    },
    {
      "cell_type": "code",
      "execution_count": null,
      "id": "55e9b27a",
      "metadata": {
        "id": "55e9b27a"
      },
      "outputs": [],
      "source": [
        "#    The 5 Countries with the HIGHEST suicides number in 2014\n",
        "countries_2014.sort_values('suicides_no', ascending=False).head(5)"
      ]
    },
    {
      "cell_type": "markdown",
      "id": "c724a937",
      "metadata": {
        "id": "c724a937"
      },
      "source": [
        "Having 2014 as the year with the lowest suicide rate, from the table above we can see still see that the top 3 countries with the highest number of suicide committed is still United States, Russian Federation and Japan. However, the suicide ratio for United States clearly went up from 13% in 1995 to 19% in 2014. "
      ]
    },
    {
      "cell_type": "markdown",
      "id": "71ad0a0d",
      "metadata": {
        "id": "71ad0a0d"
      },
      "source": [
        "### Suicide Rate between Male and Female\n",
        "---"
      ]
    },
    {
      "cell_type": "code",
      "execution_count": null,
      "id": "b344647c",
      "metadata": {
        "id": "b344647c"
      },
      "outputs": [],
      "source": [
        "fig = plt.figure(figsize=(15,6))\n",
        "sns.barplot(x='sex', y='suicides_no', hue='age', data=dataset)\n",
        "plt.xlabel('Sex')\n",
        "plt.ylabel('Suicides Number')\n",
        "plt.title('Suicide Rate -- Male vs Female by AGE')"
      ]
    },
    {
      "cell_type": "markdown",
      "id": "46ebe3ca",
      "metadata": {
        "id": "46ebe3ca"
      },
      "source": [
        "The bargraph above shows the number of suicides commmited between male and female by different age groups. Looking at the data demographically, the suicide rate of males is much higher than that of females. The suicide rate in males is 14.85% higher than that in females. The highest number of suicides among males fell between the ages of 35 and 54. "
      ]
    },
    {
      "cell_type": "markdown",
      "id": "bd39b502",
      "metadata": {
        "id": "bd39b502"
      },
      "source": [
        "## AI MEME\n",
        "![2a602d9f154542736f1d137f53d0e032.jpg](attachment:2a602d9f154542736f1d137f53d0e032.jpg)"
      ]
    },
    {
      "cell_type": "code",
      "execution_count": null,
      "id": "3e84b68d",
      "metadata": {
        "id": "3e84b68d"
      },
      "outputs": [],
      "source": [
        ""
      ]
    }
  ],
  "metadata": {
    "kernelspec": {
      "display_name": "Python 3 (ipykernel)",
      "language": "python",
      "name": "python3"
    },
    "language_info": {
      "codemirror_mode": {
        "name": "ipython",
        "version": 3
      },
      "file_extension": ".py",
      "mimetype": "text/x-python",
      "name": "python",
      "nbconvert_exporter": "python",
      "pygments_lexer": "ipython3",
      "version": "3.10.0"
    },
    "colab": {
      "name": "CSc448_A02.ipynb",
      "provenance": []
    }
  },
  "nbformat": 4,
  "nbformat_minor": 5
}