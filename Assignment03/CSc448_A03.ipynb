{
 "cells": [
  {
   "cell_type": "markdown",
   "id": "2c85919b",
   "metadata": {},
   "source": [
    "<a href=\"https://colab.research.google.com/github/shanshanli806/Artificial-Intelligence/blob/main/Assignment02/CSc448_A02.ipynb\"><img src=\"https://colab.research.google.com/assets/colab-badge.svg\" alt=\"Open In Colab\"/></a>"
   ]
  },
  {
   "cell_type": "code",
   "execution_count": 1,
   "id": "1e15509f",
   "metadata": {},
   "outputs": [],
   "source": [
    "# importing libraries\n",
    "import numpy as np\n",
    "import pandas as pd"
   ]
  },
  {
   "cell_type": "markdown",
   "id": "a3c3a79c",
   "metadata": {},
   "source": [
    "## Part 1. Loading the dataset"
   ]
  },
  {
   "cell_type": "code",
   "execution_count": 2,
   "id": "f77d0465",
   "metadata": {},
   "outputs": [
    {
     "data": {
      "text/html": [
       "<div>\n",
       "<style scoped>\n",
       "    .dataframe tbody tr th:only-of-type {\n",
       "        vertical-align: middle;\n",
       "    }\n",
       "\n",
       "    .dataframe tbody tr th {\n",
       "        vertical-align: top;\n",
       "    }\n",
       "\n",
       "    .dataframe thead th {\n",
       "        text-align: right;\n",
       "    }\n",
       "</style>\n",
       "<table border=\"1\" class=\"dataframe\">\n",
       "  <thead>\n",
       "    <tr style=\"text-align: right;\">\n",
       "      <th></th>\n",
       "      <th>Temperature °C</th>\n",
       "      <th>Mols KCL</th>\n",
       "      <th>Size nm^3</th>\n",
       "    </tr>\n",
       "  </thead>\n",
       "  <tbody>\n",
       "    <tr>\n",
       "      <th>0</th>\n",
       "      <td>469</td>\n",
       "      <td>647</td>\n",
       "      <td>6.244743e+05</td>\n",
       "    </tr>\n",
       "    <tr>\n",
       "      <th>1</th>\n",
       "      <td>403</td>\n",
       "      <td>694</td>\n",
       "      <td>5.779610e+05</td>\n",
       "    </tr>\n",
       "    <tr>\n",
       "      <th>2</th>\n",
       "      <td>302</td>\n",
       "      <td>975</td>\n",
       "      <td>6.196847e+05</td>\n",
       "    </tr>\n",
       "    <tr>\n",
       "      <th>3</th>\n",
       "      <td>779</td>\n",
       "      <td>916</td>\n",
       "      <td>1.460449e+06</td>\n",
       "    </tr>\n",
       "    <tr>\n",
       "      <th>4</th>\n",
       "      <td>901</td>\n",
       "      <td>18</td>\n",
       "      <td>4.325726e+04</td>\n",
       "    </tr>\n",
       "    <tr>\n",
       "      <th>5</th>\n",
       "      <td>545</td>\n",
       "      <td>637</td>\n",
       "      <td>7.124634e+05</td>\n",
       "    </tr>\n",
       "    <tr>\n",
       "      <th>6</th>\n",
       "      <td>660</td>\n",
       "      <td>519</td>\n",
       "      <td>7.006960e+05</td>\n",
       "    </tr>\n",
       "    <tr>\n",
       "      <th>7</th>\n",
       "      <td>143</td>\n",
       "      <td>869</td>\n",
       "      <td>2.718260e+05</td>\n",
       "    </tr>\n",
       "    <tr>\n",
       "      <th>8</th>\n",
       "      <td>89</td>\n",
       "      <td>461</td>\n",
       "      <td>8.919803e+04</td>\n",
       "    </tr>\n",
       "    <tr>\n",
       "      <th>9</th>\n",
       "      <td>294</td>\n",
       "      <td>776</td>\n",
       "      <td>4.770210e+05</td>\n",
       "    </tr>\n",
       "    <tr>\n",
       "      <th>10</th>\n",
       "      <td>991</td>\n",
       "      <td>117</td>\n",
       "      <td>2.441771e+05</td>\n",
       "    </tr>\n",
       "    <tr>\n",
       "      <th>11</th>\n",
       "      <td>307</td>\n",
       "      <td>781</td>\n",
       "      <td>5.006455e+05</td>\n",
       "    </tr>\n",
       "    <tr>\n",
       "      <th>12</th>\n",
       "      <td>206</td>\n",
       "      <td>70</td>\n",
       "      <td>3.145200e+04</td>\n",
       "    </tr>\n",
       "    <tr>\n",
       "      <th>13</th>\n",
       "      <td>437</td>\n",
       "      <td>599</td>\n",
       "      <td>5.390215e+05</td>\n",
       "    </tr>\n",
       "    <tr>\n",
       "      <th>14</th>\n",
       "      <td>566</td>\n",
       "      <td>75</td>\n",
       "      <td>9.185271e+04</td>\n",
       "    </tr>\n",
       "  </tbody>\n",
       "</table>\n",
       "</div>"
      ],
      "text/plain": [
       "    Temperature °C  Mols KCL     Size nm^3\n",
       "0              469       647  6.244743e+05\n",
       "1              403       694  5.779610e+05\n",
       "2              302       975  6.196847e+05\n",
       "3              779       916  1.460449e+06\n",
       "4              901        18  4.325726e+04\n",
       "5              545       637  7.124634e+05\n",
       "6              660       519  7.006960e+05\n",
       "7              143       869  2.718260e+05\n",
       "8               89       461  8.919803e+04\n",
       "9              294       776  4.770210e+05\n",
       "10             991       117  2.441771e+05\n",
       "11             307       781  5.006455e+05\n",
       "12             206        70  3.145200e+04\n",
       "13             437       599  5.390215e+05\n",
       "14             566        75  9.185271e+04"
      ]
     },
     "execution_count": 2,
     "metadata": {},
     "output_type": "execute_result"
    }
   ],
   "source": [
    "# Using pandas load the dataset (Load remotely, not locally)\n",
    "df = pd.read_csv('https://raw.githubusercontent.com/profmcnich/example_notebook/main/science_data_large.csv')\n",
    "\n",
    "# Output the first 15 rows of the data\n",
    "df.head(15)"
   ]
  },
  {
   "cell_type": "code",
   "execution_count": 3,
   "id": "1e14f7f7",
   "metadata": {},
   "outputs": [
    {
     "name": "stdout",
     "output_type": "stream",
     "text": [
      "<class 'pandas.core.frame.DataFrame'>\n",
      "RangeIndex: 1000 entries, 0 to 999\n",
      "Data columns (total 3 columns):\n",
      " #   Column          Non-Null Count  Dtype  \n",
      "---  ------          --------------  -----  \n",
      " 0   Temperature °C  1000 non-null   int64  \n",
      " 1   Mols KCL        1000 non-null   int64  \n",
      " 2   Size nm^3       1000 non-null   float64\n",
      "dtypes: float64(1), int64(2)\n",
      "memory usage: 23.6 KB\n"
     ]
    }
   ],
   "source": [
    "# Display a summary of the table information (number of datapoints, etc.)\n",
    "df.info()"
   ]
  },
  {
   "cell_type": "code",
   "execution_count": 4,
   "id": "f67a8fb0",
   "metadata": {},
   "outputs": [
    {
     "data": {
      "text/plain": [
       "(1000, 3)"
      ]
     },
     "execution_count": 4,
     "metadata": {},
     "output_type": "execute_result"
    }
   ],
   "source": [
    "df.shape # (rows, colums)"
   ]
  },
  {
   "cell_type": "code",
   "execution_count": 5,
   "id": "5d503e99",
   "metadata": {},
   "outputs": [
    {
     "data": {
      "text/html": [
       "<div>\n",
       "<style scoped>\n",
       "    .dataframe tbody tr th:only-of-type {\n",
       "        vertical-align: middle;\n",
       "    }\n",
       "\n",
       "    .dataframe tbody tr th {\n",
       "        vertical-align: top;\n",
       "    }\n",
       "\n",
       "    .dataframe thead th {\n",
       "        text-align: right;\n",
       "    }\n",
       "</style>\n",
       "<table border=\"1\" class=\"dataframe\">\n",
       "  <thead>\n",
       "    <tr style=\"text-align: right;\">\n",
       "      <th></th>\n",
       "      <th>Temperature °C</th>\n",
       "      <th>Mols KCL</th>\n",
       "      <th>Size nm^3</th>\n",
       "    </tr>\n",
       "  </thead>\n",
       "  <tbody>\n",
       "    <tr>\n",
       "      <th>count</th>\n",
       "      <td>1000.000000</td>\n",
       "      <td>1000.000000</td>\n",
       "      <td>1.000000e+03</td>\n",
       "    </tr>\n",
       "    <tr>\n",
       "      <th>mean</th>\n",
       "      <td>500.500000</td>\n",
       "      <td>471.530000</td>\n",
       "      <td>5.086111e+05</td>\n",
       "    </tr>\n",
       "    <tr>\n",
       "      <th>std</th>\n",
       "      <td>288.819436</td>\n",
       "      <td>288.482872</td>\n",
       "      <td>4.474838e+05</td>\n",
       "    </tr>\n",
       "    <tr>\n",
       "      <th>min</th>\n",
       "      <td>1.000000</td>\n",
       "      <td>1.000000</td>\n",
       "      <td>1.611429e+01</td>\n",
       "    </tr>\n",
       "    <tr>\n",
       "      <th>25%</th>\n",
       "      <td>250.750000</td>\n",
       "      <td>226.750000</td>\n",
       "      <td>1.298267e+05</td>\n",
       "    </tr>\n",
       "    <tr>\n",
       "      <th>50%</th>\n",
       "      <td>500.500000</td>\n",
       "      <td>459.500000</td>\n",
       "      <td>3.827182e+05</td>\n",
       "    </tr>\n",
       "    <tr>\n",
       "      <th>75%</th>\n",
       "      <td>750.250000</td>\n",
       "      <td>710.250000</td>\n",
       "      <td>7.603211e+05</td>\n",
       "    </tr>\n",
       "    <tr>\n",
       "      <th>max</th>\n",
       "      <td>1000.000000</td>\n",
       "      <td>1000.000000</td>\n",
       "      <td>1.972127e+06</td>\n",
       "    </tr>\n",
       "  </tbody>\n",
       "</table>\n",
       "</div>"
      ],
      "text/plain": [
       "       Temperature °C     Mols KCL     Size nm^3\n",
       "count     1000.000000  1000.000000  1.000000e+03\n",
       "mean       500.500000   471.530000  5.086111e+05\n",
       "std        288.819436   288.482872  4.474838e+05\n",
       "min          1.000000     1.000000  1.611429e+01\n",
       "25%        250.750000   226.750000  1.298267e+05\n",
       "50%        500.500000   459.500000  3.827182e+05\n",
       "75%        750.250000   710.250000  7.603211e+05\n",
       "max       1000.000000  1000.000000  1.972127e+06"
      ]
     },
     "execution_count": 5,
     "metadata": {},
     "output_type": "execute_result"
    }
   ],
   "source": [
    "df.describe()"
   ]
  },
  {
   "cell_type": "markdown",
   "id": "0986e9a6",
   "metadata": {},
   "source": [
    "## Part 2. Splitting the dataset\n",
    "https://scikit-learn.org/stable/modules/generated/sklearn.model_selection.train_test_split.html"
   ]
  },
  {
   "cell_type": "code",
   "execution_count": 6,
   "id": "022c707a",
   "metadata": {},
   "outputs": [
    {
     "data": {
      "text/plain": [
       "Index(['Temperature °C', 'Mols KCL', 'Size nm^3'], dtype='object')"
      ]
     },
     "execution_count": 6,
     "metadata": {},
     "output_type": "execute_result"
    }
   ],
   "source": [
    "# Printing the columns in the dataset\n",
    "df.columns"
   ]
  },
  {
   "cell_type": "code",
   "execution_count": 7,
   "id": "0a77bbd6",
   "metadata": {},
   "outputs": [],
   "source": [
    "# Take the pandas dataset and split it into our features (X) and label (y)\n",
    "# features (X)\n",
    "X = df[['Temperature °C', 'Mols KCL']]\n",
    "# label (y)\n",
    "y = df['Size nm^3']"
   ]
  },
  {
   "cell_type": "code",
   "execution_count": 8,
   "id": "c7bf8863",
   "metadata": {},
   "outputs": [],
   "source": [
    "# Use skLearn to split the features and labels into a training/test set. (90% train, 10% test)\n",
    "from sklearn.model_selection import train_test_split\n",
    "\n",
    "X_train, X_test, y_train, y_test = train_test_split(X, y, train_size=0.9, test_size=0.1)"
   ]
  },
  {
   "cell_type": "code",
   "execution_count": 9,
   "id": "37d7b234",
   "metadata": {},
   "outputs": [
    {
     "data": {
      "text/plain": [
       "((900, 2), (900,))"
      ]
     },
     "execution_count": 9,
     "metadata": {},
     "output_type": "execute_result"
    }
   ],
   "source": [
    "X_train.shape, y_train.shape"
   ]
  },
  {
   "cell_type": "code",
   "execution_count": 10,
   "id": "0310b1f4",
   "metadata": {},
   "outputs": [
    {
     "data": {
      "text/plain": [
       "((100, 2), (100,))"
      ]
     },
     "execution_count": 10,
     "metadata": {},
     "output_type": "execute_result"
    }
   ],
   "source": [
    "X_test.shape, y_test.shape"
   ]
  },
  {
   "cell_type": "markdown",
   "id": "3d7c0e1b",
   "metadata": {},
   "source": [
    "## Part 3. Perform a Linear Regression\n",
    "\n",
    "https://scikit-learn.org/stable/modules/generated/sklearn.linear_model.LinearRegression.html#sklearn.linear_model.LinearRegression"
   ]
  },
  {
   "cell_type": "code",
   "execution_count": 11,
   "id": "4c4bb32d",
   "metadata": {},
   "outputs": [
    {
     "data": {
      "text/plain": [
       "LinearRegression()"
      ]
     },
     "execution_count": 11,
     "metadata": {},
     "output_type": "execute_result"
    }
   ],
   "source": [
    "# Use sklearn to train a model on the training set\n",
    "from sklearn.linear_model import LinearRegression\n",
    "from sklearn.metrics import r2_score\n",
    "\n",
    "reg = LinearRegression()\n",
    "reg.fit(X_train, y_train)"
   ]
  },
  {
   "cell_type": "code",
   "execution_count": 12,
   "id": "47c126ae",
   "metadata": {},
   "outputs": [
    {
     "data": {
      "text/html": [
       "<div>\n",
       "<style scoped>\n",
       "    .dataframe tbody tr th:only-of-type {\n",
       "        vertical-align: middle;\n",
       "    }\n",
       "\n",
       "    .dataframe tbody tr th {\n",
       "        vertical-align: top;\n",
       "    }\n",
       "\n",
       "    .dataframe thead th {\n",
       "        text-align: right;\n",
       "    }\n",
       "</style>\n",
       "<table border=\"1\" class=\"dataframe\">\n",
       "  <thead>\n",
       "    <tr style=\"text-align: right;\">\n",
       "      <th></th>\n",
       "      <th>Actual</th>\n",
       "      <th>Predicted</th>\n",
       "    </tr>\n",
       "  </thead>\n",
       "  <tbody>\n",
       "    <tr>\n",
       "      <th>235</th>\n",
       "      <td>1.231728e+05</td>\n",
       "      <td>1.557036e+05</td>\n",
       "    </tr>\n",
       "    <tr>\n",
       "      <th>299</th>\n",
       "      <td>4.086765e+05</td>\n",
       "      <td>6.432282e+05</td>\n",
       "    </tr>\n",
       "    <tr>\n",
       "      <th>890</th>\n",
       "      <td>1.335314e+05</td>\n",
       "      <td>1.019581e+05</td>\n",
       "    </tr>\n",
       "    <tr>\n",
       "      <th>984</th>\n",
       "      <td>1.279600e+06</td>\n",
       "      <td>1.104241e+06</td>\n",
       "    </tr>\n",
       "    <tr>\n",
       "      <th>737</th>\n",
       "      <td>8.687293e+05</td>\n",
       "      <td>8.318090e+05</td>\n",
       "    </tr>\n",
       "    <tr>\n",
       "      <th>...</th>\n",
       "      <td>...</td>\n",
       "      <td>...</td>\n",
       "    </tr>\n",
       "    <tr>\n",
       "      <th>375</th>\n",
       "      <td>1.884383e+05</td>\n",
       "      <td>3.045494e+05</td>\n",
       "    </tr>\n",
       "    <tr>\n",
       "      <th>925</th>\n",
       "      <td>9.762603e+04</td>\n",
       "      <td>2.154767e+05</td>\n",
       "    </tr>\n",
       "    <tr>\n",
       "      <th>587</th>\n",
       "      <td>1.156133e+05</td>\n",
       "      <td>5.155103e+05</td>\n",
       "    </tr>\n",
       "    <tr>\n",
       "      <th>170</th>\n",
       "      <td>2.711203e+04</td>\n",
       "      <td>-1.231032e+05</td>\n",
       "    </tr>\n",
       "    <tr>\n",
       "      <th>791</th>\n",
       "      <td>7.375361e+05</td>\n",
       "      <td>7.390122e+05</td>\n",
       "    </tr>\n",
       "  </tbody>\n",
       "</table>\n",
       "<p>100 rows × 2 columns</p>\n",
       "</div>"
      ],
      "text/plain": [
       "           Actual     Predicted\n",
       "235  1.231728e+05  1.557036e+05\n",
       "299  4.086765e+05  6.432282e+05\n",
       "890  1.335314e+05  1.019581e+05\n",
       "984  1.279600e+06  1.104241e+06\n",
       "737  8.687293e+05  8.318090e+05\n",
       "..            ...           ...\n",
       "375  1.884383e+05  3.045494e+05\n",
       "925  9.762603e+04  2.154767e+05\n",
       "587  1.156133e+05  5.155103e+05\n",
       "170  2.711203e+04 -1.231032e+05\n",
       "791  7.375361e+05  7.390122e+05\n",
       "\n",
       "[100 rows x 2 columns]"
      ]
     },
     "execution_count": 12,
     "metadata": {},
     "output_type": "execute_result"
    }
   ],
   "source": [
    "# Create a sample datapoint and predict the output of that sample with the trained model\n",
    "y_pred = reg.predict(X_test)\n",
    "pd.DataFrame({\"Actual\" : y_test, 'Predicted' : y_pred})"
   ]
  },
  {
   "cell_type": "code",
   "execution_count": 13,
   "id": "d66b246d",
   "metadata": {},
   "outputs": [
    {
     "name": "stdout",
     "output_type": "stream",
     "text": [
      "The score for the model is 0.8417350599872937\n"
     ]
    }
   ],
   "source": [
    "# Report on the score for that model, in your own words (markdown, not code) explain what the score means\n",
    "score = r2_score(y_test, y_pred)\n",
    "print(\"The score for the model is\", score)"
   ]
  },
  {
   "cell_type": "markdown",
   "id": "c9f39397",
   "metadata": {},
   "source": [
    "`model.score(X_test, y_test)` is the prediction for `X_test` and compares it with `y_test`, and returns the R-squared value for the model. \n",
    "\n",
    "R-squared is a measure of how close the data are to the fitted regression line. More specifically, it is a statistical measure of the percentage of the variance in the dependent variable that is predicted from the independent variables."
   ]
  },
  {
   "cell_type": "code",
   "execution_count": 14,
   "id": "0a14db18",
   "metadata": {},
   "outputs": [
    {
     "name": "stdout",
     "output_type": "stream",
     "text": [
      "Here, the accuracy for this model is 84.17%\n"
     ]
    }
   ],
   "source": [
    "print(\"Here, the accuracy for this model is {0:.2%}\".format(score))"
   ]
  },
  {
   "cell_type": "code",
   "execution_count": 15,
   "id": "5aa1fa2a",
   "metadata": {},
   "outputs": [
    {
     "data": {
      "text/html": [
       "<div>\n",
       "<style scoped>\n",
       "    .dataframe tbody tr th:only-of-type {\n",
       "        vertical-align: middle;\n",
       "    }\n",
       "\n",
       "    .dataframe tbody tr th {\n",
       "        vertical-align: top;\n",
       "    }\n",
       "\n",
       "    .dataframe thead th {\n",
       "        text-align: right;\n",
       "    }\n",
       "</style>\n",
       "<table border=\"1\" class=\"dataframe\">\n",
       "  <thead>\n",
       "    <tr style=\"text-align: right;\">\n",
       "      <th></th>\n",
       "      <th>Coefficient</th>\n",
       "    </tr>\n",
       "  </thead>\n",
       "  <tbody>\n",
       "    <tr>\n",
       "      <th>Temperature °C</th>\n",
       "      <td>880.420978</td>\n",
       "    </tr>\n",
       "    <tr>\n",
       "      <th>Mols KCL</th>\n",
       "      <td>1029.433011</td>\n",
       "    </tr>\n",
       "  </tbody>\n",
       "</table>\n",
       "</div>"
      ],
      "text/plain": [
       "                Coefficient\n",
       "Temperature °C   880.420978\n",
       "Mols KCL        1029.433011"
      ]
     },
     "execution_count": 15,
     "metadata": {},
     "output_type": "execute_result"
    }
   ],
   "source": [
    "# coefficents\n",
    "coef = reg.coef_\n",
    "pd.DataFrame(coef, X.columns, columns=['Coefficient'])"
   ]
  },
  {
   "cell_type": "code",
   "execution_count": 16,
   "id": "2f3560cd",
   "metadata": {},
   "outputs": [
    {
     "name": "stdout",
     "output_type": "stream",
     "text": [
      "The intercept is -414919.5383346601\n"
     ]
    }
   ],
   "source": [
    "intercept = reg.intercept_\n",
    "print(\"The intercept is\", intercept)"
   ]
  },
  {
   "cell_type": "code",
   "execution_count": 17,
   "id": "7ae1ebb4",
   "metadata": {},
   "outputs": [
    {
     "data": {
      "text/latex": [
       "\n",
       "\\begin{equation*}\n",
       "\\ h(x) = {-414919.5383346601} + {880.4209777716148}a + {1029.4330107866579}b\n",
       "\\end{equation*}\n"
      ],
      "text/plain": [
       "<IPython.core.display.Latex object>"
      ]
     },
     "execution_count": 17,
     "metadata": {},
     "output_type": "execute_result"
    }
   ],
   "source": [
    "# Extract the coefficents and intercept from the model and write an equation for your h(x) using LaTeX\n",
    "from IPython.display import Latex\n",
    "\n",
    "Latex(f\"\"\"\n",
    "\\\\begin{{equation*}}\n",
    "\\\\ h(x) = {{{intercept}}} + {{{coef[0]}}}a + {{{coef[1]}}}b\n",
    "\\\\end{{equation*}}\n",
    "\"\"\")"
   ]
  },
  {
   "cell_type": "markdown",
   "id": "0c45dd33",
   "metadata": {},
   "source": [
    "## Part 4. Use Cross Validation\n",
    "\n",
    "https://scikit-learn.org/stable/modules/cross_validation.html#cross-validation"
   ]
  },
  {
   "cell_type": "code",
   "execution_count": 18,
   "id": "4867cff7",
   "metadata": {},
   "outputs": [
    {
     "name": "stdout",
     "output_type": "stream",
     "text": [
      "Cross Val scores : [0.79570805 0.91562328 0.82089814 0.88481862 0.83904214]\n"
     ]
    }
   ],
   "source": [
    "# Use the cross_val_score function to repeat your experiment across many shuffles of the data\n",
    "# Report on their finding and their significance\n",
    "\n",
    "from sklearn.model_selection import cross_val_score\n",
    "from sklearn.model_selection import ShuffleSplit\n",
    "\n",
    "cv = ShuffleSplit(n_splits=5, test_size=0.1, random_state=0)\n",
    "cv_results = cross_val_score(reg, X_test, y_test, cv=cv)\n",
    "print(\"Cross Val scores :\", cv_results)"
   ]
  },
  {
   "cell_type": "code",
   "execution_count": 19,
   "id": "49b7effb",
   "metadata": {},
   "outputs": [
    {
     "name": "stdout",
     "output_type": "stream",
     "text": [
      "0.8512 accuracy with a standard deviation of 0.0434\n"
     ]
    }
   ],
   "source": [
    "print(\"%0.4f accuracy with a standard deviation of %0.4f\" % (cv_results.mean(), cv_results.std()))"
   ]
  },
  {
   "cell_type": "markdown",
   "id": "1c660e81",
   "metadata": {},
   "source": [
    "Cross validation creates multiple random splits of the dataset into training and validation data. Here, we splitted the data into 5 groups. The dataset are divided into 5 equal parts. During each split, a group of data is holdout as the test set and take the remaining groups as a training set. Then, a model is fit to the training set and evaluate it on the test set, and predictive accuracy is assessed using the validation data."
   ]
  },
  {
   "cell_type": "markdown",
   "id": "ba6aefe8",
   "metadata": {},
   "source": [
    "## Part 5. Using Polynomial Regression\n",
    "\n",
    "https://scikit-learn.org/stable/modules/linear_model.html#polynomial-regression-extending-linear-models-with-basis-functions"
   ]
  },
  {
   "cell_type": "code",
   "execution_count": 20,
   "id": "e0b5d45c",
   "metadata": {},
   "outputs": [],
   "source": [
    "# Using the PolynomialFeatures library perform another regression on an augmented dataset of degree 2\n",
    "# Report on the metrics and output the resultant equation as you did in Part 3.\n",
    "\n",
    "from sklearn.preprocessing import PolynomialFeatures\n",
    "from sklearn import linear_model\n",
    "\n",
    "# applying polynomial regression degree 2\n",
    "poly = PolynomialFeatures(degree=2)\n",
    "X_train_trans = poly.fit_transform(X_train)\n",
    "X_test_trans = poly.transform(X_test)"
   ]
  },
  {
   "cell_type": "code",
   "execution_count": 21,
   "id": "31927c72",
   "metadata": {},
   "outputs": [
    {
     "data": {
      "text/plain": [
       "((900, 6), (100, 6))"
      ]
     },
     "execution_count": 21,
     "metadata": {},
     "output_type": "execute_result"
    }
   ],
   "source": [
    "X_train_trans.shape, X_test_trans.shape"
   ]
  },
  {
   "cell_type": "code",
   "execution_count": 22,
   "id": "e9f0b454",
   "metadata": {},
   "outputs": [
    {
     "data": {
      "text/plain": [
       "LinearRegression()"
      ]
     },
     "execution_count": 22,
     "metadata": {},
     "output_type": "execute_result"
    }
   ],
   "source": [
    "# include bias parameter\n",
    "reg_new = LinearRegression()\n",
    "reg_new.fit(X_train_trans, y_train)"
   ]
  },
  {
   "cell_type": "code",
   "execution_count": 23,
   "id": "79bea4fe",
   "metadata": {},
   "outputs": [
    {
     "data": {
      "text/html": [
       "<div>\n",
       "<style scoped>\n",
       "    .dataframe tbody tr th:only-of-type {\n",
       "        vertical-align: middle;\n",
       "    }\n",
       "\n",
       "    .dataframe tbody tr th {\n",
       "        vertical-align: top;\n",
       "    }\n",
       "\n",
       "    .dataframe thead th {\n",
       "        text-align: right;\n",
       "    }\n",
       "</style>\n",
       "<table border=\"1\" class=\"dataframe\">\n",
       "  <thead>\n",
       "    <tr style=\"text-align: right;\">\n",
       "      <th></th>\n",
       "      <th>Actual</th>\n",
       "      <th>Predicted</th>\n",
       "    </tr>\n",
       "  </thead>\n",
       "  <tbody>\n",
       "    <tr>\n",
       "      <th>235</th>\n",
       "      <td>1.231728e+05</td>\n",
       "      <td>1.231728e+05</td>\n",
       "    </tr>\n",
       "    <tr>\n",
       "      <th>299</th>\n",
       "      <td>4.086765e+05</td>\n",
       "      <td>4.086765e+05</td>\n",
       "    </tr>\n",
       "    <tr>\n",
       "      <th>890</th>\n",
       "      <td>1.335314e+05</td>\n",
       "      <td>1.335314e+05</td>\n",
       "    </tr>\n",
       "    <tr>\n",
       "      <th>984</th>\n",
       "      <td>1.279600e+06</td>\n",
       "      <td>1.279600e+06</td>\n",
       "    </tr>\n",
       "    <tr>\n",
       "      <th>737</th>\n",
       "      <td>8.687293e+05</td>\n",
       "      <td>8.687293e+05</td>\n",
       "    </tr>\n",
       "    <tr>\n",
       "      <th>...</th>\n",
       "      <td>...</td>\n",
       "      <td>...</td>\n",
       "    </tr>\n",
       "    <tr>\n",
       "      <th>375</th>\n",
       "      <td>1.884383e+05</td>\n",
       "      <td>1.884383e+05</td>\n",
       "    </tr>\n",
       "    <tr>\n",
       "      <th>925</th>\n",
       "      <td>9.762603e+04</td>\n",
       "      <td>9.762603e+04</td>\n",
       "    </tr>\n",
       "    <tr>\n",
       "      <th>587</th>\n",
       "      <td>1.156133e+05</td>\n",
       "      <td>1.156133e+05</td>\n",
       "    </tr>\n",
       "    <tr>\n",
       "      <th>170</th>\n",
       "      <td>2.711203e+04</td>\n",
       "      <td>2.711203e+04</td>\n",
       "    </tr>\n",
       "    <tr>\n",
       "      <th>791</th>\n",
       "      <td>7.375361e+05</td>\n",
       "      <td>7.375361e+05</td>\n",
       "    </tr>\n",
       "  </tbody>\n",
       "</table>\n",
       "<p>100 rows × 2 columns</p>\n",
       "</div>"
      ],
      "text/plain": [
       "           Actual     Predicted\n",
       "235  1.231728e+05  1.231728e+05\n",
       "299  4.086765e+05  4.086765e+05\n",
       "890  1.335314e+05  1.335314e+05\n",
       "984  1.279600e+06  1.279600e+06\n",
       "737  8.687293e+05  8.687293e+05\n",
       "..            ...           ...\n",
       "375  1.884383e+05  1.884383e+05\n",
       "925  9.762603e+04  9.762603e+04\n",
       "587  1.156133e+05  1.156133e+05\n",
       "170  2.711203e+04  2.711203e+04\n",
       "791  7.375361e+05  7.375361e+05\n",
       "\n",
       "[100 rows x 2 columns]"
      ]
     },
     "execution_count": 23,
     "metadata": {},
     "output_type": "execute_result"
    }
   ],
   "source": [
    "# prediction\n",
    "y_pred_new = reg_new.predict(X_test_trans)\n",
    "pd.DataFrame({\"Actual\" : y_test, 'Predicted' : y_pred_new})"
   ]
  },
  {
   "cell_type": "code",
   "execution_count": 24,
   "id": "de52a42c",
   "metadata": {},
   "outputs": [
    {
     "name": "stdout",
     "output_type": "stream",
     "text": [
      "The score for the model is 1.0\n"
     ]
    }
   ],
   "source": [
    "# score\n",
    "score = r2_score(y_test, y_pred_new)\n",
    "print(\"The score for the model is\", score)"
   ]
  },
  {
   "cell_type": "code",
   "execution_count": 25,
   "id": "2b4d9f1d",
   "metadata": {},
   "outputs": [
    {
     "name": "stdout",
     "output_type": "stream",
     "text": [
      "Here, the accuracy for this model is 100.00%\n"
     ]
    }
   ],
   "source": [
    "print(\"Here, the accuracy for this model is {0:.2%}\".format(score))"
   ]
  },
  {
   "cell_type": "code",
   "execution_count": 26,
   "id": "060b1fa3",
   "metadata": {},
   "outputs": [
    {
     "name": "stdout",
     "output_type": "stream",
     "text": [
      "The coefficients are  [ 0.00000000e+00  1.20000000e+01 -1.26501034e-07  1.15356613e-11\n",
      "  2.00000000e+00  2.85714287e-02]\n"
     ]
    }
   ],
   "source": [
    "# coefficents\n",
    "coef_new = reg_new.coef_\n",
    "print(\"The coefficients are \", coef_new)"
   ]
  },
  {
   "cell_type": "code",
   "execution_count": 27,
   "id": "04969bcb",
   "metadata": {},
   "outputs": [
    {
     "data": {
      "text/plain": [
       "(6,)"
      ]
     },
     "execution_count": 27,
     "metadata": {},
     "output_type": "execute_result"
    }
   ],
   "source": [
    "coef_new.shape"
   ]
  },
  {
   "cell_type": "code",
   "execution_count": 28,
   "id": "5e05a240",
   "metadata": {},
   "outputs": [
    {
     "name": "stdout",
     "output_type": "stream",
     "text": [
      "The intercept is 1.925509423017502e-05\n"
     ]
    }
   ],
   "source": [
    "# intercept\n",
    "intercept_new = reg_new.intercept_\n",
    "print(\"The intercept is\", intercept_new)"
   ]
  },
  {
   "cell_type": "code",
   "execution_count": 29,
   "id": "75570ecc",
   "metadata": {},
   "outputs": [
    {
     "data": {
      "text/latex": [
       "\n",
       "\\begin{equation*}\n",
       "\\ h(x) = {1.925509423017502e-05} + {0.0} + {11.999999984555139}a + {-1.2650103351635744e-07}b + {1.1535661315065227e-11}a^2 + {2.0000000000052793}ab + {0.02857142871023921}b^2\n",
       "\\end{equation*}\n"
      ],
      "text/plain": [
       "<IPython.core.display.Latex object>"
      ]
     },
     "execution_count": 29,
     "metadata": {},
     "output_type": "execute_result"
    }
   ],
   "source": [
    "# rounding all numbers to 2 decimal places\n",
    "Latex(f\"\"\"\n",
    "\\\\begin{{equation*}}\n",
    "\\\\ h(x) = {{{intercept_new}}} + {{{coef_new[0]}}} + {{{coef_new[1]}}}a + {{{coef_new[2]}}}b + {{{coef_new[3]}}}a^2 + {{{coef_new[4]}}}ab + {{{coef_new[5]}}}b^2\n",
    "\\\\end{{equation*}}\n",
    "\"\"\")"
   ]
  },
  {
   "cell_type": "markdown",
   "id": "20797d71",
   "metadata": {},
   "source": [
    "Here, we convert the input to polynomial   terms in degree 2, and fit the linear regression as polynomial regression. We can see that the polynomial regression have a R-squared score of 1.0, which indicates that the accuracy for this model is 100%, as compared to the linear line. Unlike, linear regression, polynomial regression have a board range of function that can fit under it and fits a wide range of curvatures. Therefore, the polynomial regression fit the data easily into a model than for a linear regression in part 3."
   ]
  },
  {
   "cell_type": "code",
   "execution_count": null,
   "id": "87f238b9",
   "metadata": {},
   "outputs": [],
   "source": []
  }
 ],
 "metadata": {
  "kernelspec": {
   "display_name": "Python 3 (ipykernel)",
   "language": "python",
   "name": "python3"
  },
  "language_info": {
   "codemirror_mode": {
    "name": "ipython",
    "version": 3
   },
   "file_extension": ".py",
   "mimetype": "text/x-python",
   "name": "python",
   "nbconvert_exporter": "python",
   "pygments_lexer": "ipython3",
   "version": "3.10.0"
  }
 },
 "nbformat": 4,
 "nbformat_minor": 5
}
